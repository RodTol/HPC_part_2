{
 "cells": [
  {
   "cell_type": "code",
   "execution_count": 13,
   "metadata": {},
   "outputs": [],
   "source": [
    "import tabulate\n",
    "import pandas as pd\n",
    "import numpy as np\n",
    "import matplotlib.pyplot as plt"
   ]
  },
  {
   "cell_type": "code",
   "execution_count": 14,
   "metadata": {},
   "outputs": [],
   "source": [
    "files = ['C/times.dat','../fftw_es1/C/times.dat']"
   ]
  },
  {
   "cell_type": "code",
   "execution_count": 15,
   "metadata": {},
   "outputs": [
    {
     "data": {
      "text/html": [
       "<div>\n",
       "<style scoped>\n",
       "    .dataframe tbody tr th:only-of-type {\n",
       "        vertical-align: middle;\n",
       "    }\n",
       "\n",
       "    .dataframe tbody tr th {\n",
       "        vertical-align: top;\n",
       "    }\n",
       "\n",
       "    .dataframe thead th {\n",
       "        text-align: right;\n",
       "    }\n",
       "</style>\n",
       "<table border=\"1\" class=\"dataframe\">\n",
       "  <thead>\n",
       "    <tr style=\"text-align: right;\">\n",
       "      <th></th>\n",
       "      <th>grid_size</th>\n",
       "      <th>n_proc_tot</th>\n",
       "      <th>time</th>\n",
       "    </tr>\n",
       "  </thead>\n",
       "  <tbody>\n",
       "    <tr>\n",
       "      <th>0</th>\n",
       "      <td>512x512x1024</td>\n",
       "      <td>32</td>\n",
       "      <td>919.125449895859</td>\n",
       "    </tr>\n",
       "    <tr>\n",
       "      <th>1</th>\n",
       "      <td>512x512x1024</td>\n",
       "      <td>64</td>\n",
       "      <td>600.446949005127</td>\n",
       "    </tr>\n",
       "    <tr>\n",
       "      <th>2</th>\n",
       "      <td>512x512x1024</td>\n",
       "      <td>128</td>\n",
       "      <td>374.573275089264</td>\n",
       "    </tr>\n",
       "    <tr>\n",
       "      <th>3</th>\n",
       "      <td>512x512x1024</td>\n",
       "      <td>256</td>\n",
       "      <td>255.415284872055</td>\n",
       "    </tr>\n",
       "  </tbody>\n",
       "</table>\n",
       "</div>"
      ],
      "text/plain": [
       "      grid_size n_proc_tot              time\n",
       "0  512x512x1024         32  919.125449895859\n",
       "1  512x512x1024         64  600.446949005127\n",
       "2  512x512x1024        128  374.573275089264\n",
       "3  512x512x1024        256  255.415284872055"
      ]
     },
     "metadata": {},
     "output_type": "display_data"
    },
    {
     "name": "stdout",
     "output_type": "stream",
     "text": [
      "|    | grid_size    |   n_proc_tot |    time |\n",
      "|---:|:-------------|-------------:|--------:|\n",
      "|  0 | 512x512x1024 |           32 | 919.125 |\n",
      "|  1 | 512x512x1024 |           64 | 600.447 |\n",
      "|  2 | 512x512x1024 |          128 | 374.573 |\n",
      "|  3 | 512x512x1024 |          256 | 255.415 |\n"
     ]
    },
    {
     "data": {
      "text/html": [
       "<div>\n",
       "<style scoped>\n",
       "    .dataframe tbody tr th:only-of-type {\n",
       "        vertical-align: middle;\n",
       "    }\n",
       "\n",
       "    .dataframe tbody tr th {\n",
       "        vertical-align: top;\n",
       "    }\n",
       "\n",
       "    .dataframe thead th {\n",
       "        text-align: right;\n",
       "    }\n",
       "</style>\n",
       "<table border=\"1\" class=\"dataframe\">\n",
       "  <thead>\n",
       "    <tr style=\"text-align: right;\">\n",
       "      <th></th>\n",
       "      <th>grid_size</th>\n",
       "      <th>n_proc_tot</th>\n",
       "      <th>time</th>\n",
       "    </tr>\n",
       "  </thead>\n",
       "  <tbody>\n",
       "    <tr>\n",
       "      <th>0</th>\n",
       "      <td>512x512x1024</td>\n",
       "      <td>32</td>\n",
       "      <td>1051.173555850983</td>\n",
       "    </tr>\n",
       "    <tr>\n",
       "      <th>1</th>\n",
       "      <td>512x512x1024</td>\n",
       "      <td>64</td>\n",
       "      <td>659.826063156128</td>\n",
       "    </tr>\n",
       "    <tr>\n",
       "      <th>2</th>\n",
       "      <td>512x512x1024</td>\n",
       "      <td>128</td>\n",
       "      <td>454.704920053482</td>\n",
       "    </tr>\n",
       "    <tr>\n",
       "      <th>3</th>\n",
       "      <td>512x512x1024</td>\n",
       "      <td>256</td>\n",
       "      <td>276.521547079086</td>\n",
       "    </tr>\n",
       "  </tbody>\n",
       "</table>\n",
       "</div>"
      ],
      "text/plain": [
       "      grid_size n_proc_tot               time\n",
       "0  512x512x1024         32  1051.173555850983\n",
       "1  512x512x1024         64   659.826063156128\n",
       "2  512x512x1024        128   454.704920053482\n",
       "3  512x512x1024        256   276.521547079086"
      ]
     },
     "metadata": {},
     "output_type": "display_data"
    },
    {
     "name": "stdout",
     "output_type": "stream",
     "text": [
      "|    | grid_size    |   n_proc_tot |     time |\n",
      "|---:|:-------------|-------------:|---------:|\n",
      "|  0 | 512x512x1024 |           32 | 1051.17  |\n",
      "|  1 | 512x512x1024 |           64 |  659.826 |\n",
      "|  2 | 512x512x1024 |          128 |  454.705 |\n",
      "|  3 | 512x512x1024 |          256 |  276.522 |\n"
     ]
    }
   ],
   "source": [
    "\n",
    "lines = []\n",
    "data_frames = []\n",
    "n_line = 0\n",
    "for index in range(len(files)):\n",
    "\twith open(files[index]) as file:\t\n",
    "\t\tfor line in file.readlines():\n",
    "\t\t\tlines += [line.split()]\n",
    "\t\t\tn_line+=1\n",
    "\n",
    "\tfor i in range(len(lines[0])):\n",
    "\t\tlines[0][i] = lines[0][i].replace(\",\",\"\")\n",
    "\n",
    "\t#for line in lines[1:]:\n",
    "\t#\tline[1:] = (np.array(line[1:])).astype(np.double) \n",
    "\n",
    "\t#lines =  lines[0:len(lines)-3]\n",
    "\tdf = pd.DataFrame(lines[1:])\n",
    "\tdf.columns = lines[0]\n",
    "\tdata_frames.append(df)\n",
    "\tlines = []\n",
    "\n",
    "for i in data_frames:\n",
    "\tdisplay(i)\n",
    "\tprint(i.to_markdown())"
   ]
  },
  {
   "cell_type": "code",
   "execution_count": 19,
   "metadata": {},
   "outputs": [
    {
     "data": {
      "image/png": "[encoded data removed]",
      "text/plain": [
       "<Figure size 640x480 with 1 Axes>"
      ]
     },
     "metadata": {},
     "output_type": "display_data"
    }
   ],
   "source": [
    "def plot(data_array):\n",
    "    X = np.arange(len(df[\"n_proc_tot\"]))\n",
    "    X_ticks = [0,1,2,3]\n",
    "    ticks = ['N = ' + str(size) for size in data_array[0][\"n_proc_tot\"]]\n",
    "\n",
    "    fig = plt.figure()\n",
    "    ax = fig.add_axes([0,0,1,1])\n",
    "\n",
    "    ax.bar(X , pd.to_numeric(data_array[0][\"time\"]), color = 'r', width = 0.25)\n",
    "    ax.bar(X+0.25 , pd.to_numeric(data_array[1][\"time\"]), color = 'g', width = 0.25)\n",
    "\n",
    "\n",
    "    ax.set_xticks(X_ticks, ticks)\n",
    "    ax.legend(labels=['fftw-custom',  'fftw-mpi'])\n",
    "\n",
    "    plt.xticks(fontsize=10, rotation=45)\n",
    "    plt.title('fftw-custom vs fftw-mpi')\n",
    "    plt.show()\n",
    "\n",
    "  \n",
    "plot(data_frames)"
   ]
  },
  {
   "cell_type": "code",
   "execution_count": null,
   "metadata": {},
   "outputs": [],
   "source": []
  }
 ],
 "metadata": {
  "kernelspec": {
   "display_name": "Python 3",
   "language": "python",
   "name": "python3"
  },
  "language_info": {
   "codemirror_mode": {
    "name": "ipython",
    "version": 3
   },
   "file_extension": ".py",
   "mimetype": "text/x-python",
   "name": "python",
   "nbconvert_exporter": "python",
   "pygments_lexer": "ipython3",
   "version": "3.10.6"
  },
  "orig_nbformat": 4
 },
 "nbformat": 4,
 "nbformat_minor": 2
}
